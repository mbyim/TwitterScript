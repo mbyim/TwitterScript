{
 "cells": [
  {
   "cell_type": "code",
   "execution_count": null,
   "metadata": {
    "collapsed": true
   },
   "outputs": [],
   "source": [
    "from selenium import webdriver\n",
    "from selenium.webdriver.common.keys import Keys\n",
    "import csv\n",
    "\n",
    "##LOGIN\n",
    "driver = webdriver.Chrome()\n",
    "driver.get(\"http://www.twitter.com\")\n",
    "assert \"Twitter\" in driver.title\n",
    "username = driver.find_element_by_xpath(\"//*[@id='signin-email']\")\n",
    "username.click()\n",
    "username.send_keys(\"******@*******\")\n",
    "passw = driver.find_element_by_xpath(\"//*[@id='signin-password']\")\n",
    "passw.click()\n",
    "passw.send_keys(\"*******\")\n",
    "passw.send_keys(Keys.RETURN)\n",
    "\n",
    "print \"DoneLogin\"\n",
    "\n",
    "\n",
    "##IMPORT TO CSV AND CONVERT TO LIST\n",
    "with open('tofollowcsv.csv', 'rb') as f:\n",
    "    reader = csv.reader(f)\n",
    "    follow_list = list(reader)\n",
    "\n",
    "follow_list = [str(x)[2:-2] for x in follow_list]\n",
    "\n",
    "\n",
    "\n",
    "##ITERATE OVER LIST AND FOLLOW\n",
    "error_count = 0\n",
    "for account in follow_list:\n",
    "\n",
    "    try:\n",
    "        acct_to_follow = account\n",
    "\n",
    "\n",
    "        driver.get(\"http://www.twitter.com/\" + acct_to_follow)\n",
    "\n",
    "        followbutton = driver.find_element_by_xpath(\"//*[@class='user-actions-follow-button js-follow-btn follow-button btn']\")\n",
    "        followbutton.click()\n",
    "\n",
    "    except:\n",
    "        error_count += 1\n",
    "        continue\n",
    "\n",
    "print \"DoneFollow\"\n",
    "\n",
    "print \"Finished, could not follow \" + str(error_count) + \" accounts.\""
   ]
  }
 ],
 "metadata": {
  "kernelspec": {
   "display_name": "Python 2",
   "language": "python",
   "name": "python2"
  },
  "language_info": {
   "codemirror_mode": {
    "name": "ipython",
    "version": 2
   },
   "file_extension": ".py",
   "mimetype": "text/x-python",
   "name": "python",
   "nbconvert_exporter": "python",
   "pygments_lexer": "ipython2",
   "version": "2.7.11"
  }
 },
 "nbformat": 4,
 "nbformat_minor": 0
}
